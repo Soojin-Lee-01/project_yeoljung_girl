{
 "cells": [
  {
   "cell_type": "markdown",
   "id": "aad27077",
   "metadata": {},
   "source": [
    "# 이미지 어그멘테이션\n",
    "파일 기능: 이미지 어그멘테이션을 위한 파일\n",
    "작성자 : 유다영\n",
    "작성일 : 2022.06.06\n",
    "기타: 회전, 뒤집기 등 훈련 데이터의 폭을 넓히기 위한 어그멘테이션 기능입니동\n",
    "\n",
    "\n",
    "train 폴더 내 10개 파일이 든 20개 폴더에 대해 이미지 어그멘테이션 적용해서\n",
    "dataset > handwriting_number > augmentation_images 에 저장완료~!(200개)\n",
    "\n",
    "- 6월 7일 할일\n",
    "test, valid 내 이미지도 어그멘테이션 해서 저장하기\n",
    "\n",
    "출처: https://github.com/oryondark/hjkim/blob/master/DeepLearning_master/Augmentation_Tutorial/Data%20Augmentation.md\n"
   ]
  },
  {
   "cell_type": "code",
   "execution_count": null,
   "id": "2b17cae8",
   "metadata": {},
   "outputs": [],
   "source": [
    "# import modules for image preprocessing\n",
    "import cv2 as cv\n",
    "import matplotlib.pyplot as plt\n",
    "import os, sys"
   ]
  },
  {
   "cell_type": "code",
   "execution_count": null,
   "id": "612f456b",
   "metadata": {},
   "outputs": [],
   "source": [
    "#image parse in directory\n",
    "\n",
    "root_dir_path = './train/20/' #target images directory\n",
    "root_dir = os.listdir(root_dir_path)\n",
    "print(root_dir)"
   ]
  },
  {
   "cell_type": "markdown",
   "id": "42aa01ff",
   "metadata": {},
   "source": [
    "# Create Save method by openCV"
   ]
  },
  {
   "cell_type": "code",
   "execution_count": null,
   "id": "4f1a6fd6",
   "metadata": {},
   "outputs": [],
   "source": [
    "def save(keyPath, file_name, cv_img, rate, type):\n",
    "    \n",
    "    '''\n",
    "    save method need to save before image preprocessing.\n",
    "    It has five arguments and requirement all.\n",
    "    \n",
    "    keyPath is root path of original image.\n",
    "    file_name is original image file name\n",
    "    cv_img is whole signal of the image\n",
    "    rate is for scale value\n",
    "    \n",
    "    '''\n",
    "    print(\"os.path.isdir(keyPath): \", os.path.isdir(keyPath))\n",
    "    if os.path.isdir(keyPath) != True:\n",
    "        os.mkdir(keyPath)\n",
    "    \n",
    "    saved_name = os.path.join(keyPath,\"{}{}.{}\".format(file_name.split('.')[0], type, 'png'))\n",
    "    print(\"saved_name: \", saved_name)\n",
    "    cv.imwrite(saved_name, cv_img)\n",
    "    \n",
    "    "
   ]
  },
  {
   "cell_type": "markdown",
   "id": "4f9e1bef",
   "metadata": {},
   "source": [
    "# 1. Scaling"
   ]
  },
  {
   "cell_type": "code",
   "execution_count": null,
   "id": "16b6c70c",
   "metadata": {},
   "outputs": [],
   "source": [
    "def augmente(keyName, rate=None, if_scale=False):\n",
    "    \n",
    "    saved_dir = \"./augmentation_images/20\"\n",
    "    keyPath = os.path.join(root_dir_path) # keypath direct to root path 리스트 만들 객체\n",
    "    \n",
    "    keyPath2 = os.path.join(root_dir_path, keyName) # 인덱스 하나하나\n",
    "    \n",
    "    keyPath2 = keyPath2.replace('\\\\', '/')\n",
    "    print(\"whyyyyyyyyyyyyyyyyyyyyyyyyyy\")\n",
    "    print(keyPath2)\n",
    "    \n",
    "    datas = os.listdir(keyPath)\n",
    "    print(\"datas: \", datas)\n",
    "    \n",
    "    data_total_num = len(datas)\n",
    "    \n",
    "    print(\"Overall data in {} Path :: {}\".format(keyPath2, data_total_num))\n",
    "    \n",
    "    \n",
    "    try:\n",
    "        for data in datas:\n",
    "            type = \"_scale_\"\n",
    "            data_path = os.path.join(keyPath, data)\n",
    "            img = cv.imread(data_path)\n",
    "            shape = img.shape\n",
    "            ###### data rotate ######\n",
    "            data_rotate(saved_dir, data, img, 20, \"_rotate_\", saving_enable=True)\n",
    "            \n",
    "#             ###### data flip and save #####\n",
    "#             data_flip(saved_dir, data, img, rate, 1, False) # verical random flip\n",
    "# #             data_flip(saved_dir, data, img, rate, 0, False) # horizen random flip\n",
    "#             data_flip(saved_dir, data, img, rate, -1, False) # both random flip\n",
    "            \n",
    "#             ####### Image Scale #########\n",
    "#             if if_scale == True:\n",
    "#                 print(\"Start Scale!\")\n",
    "#                 x = shape[0]\n",
    "#                 y = shape[1]          \n",
    "#                 f_x = x + (x * (rate / 100))\n",
    "#                 f_y = y + (y * (rate / 100))\n",
    "#                 cv.resize(img, None, fx=f_x, fy=f_y, interpolation = cv.INTER_CUBIC)\n",
    "\n",
    "#                 img = img[0:y, 0:x]\n",
    "                \n",
    "#                 save(saved_dir, data, img, rate, type)\n",
    "            ############################\n",
    "                        \n",
    "        #plt.imshow(img)\n",
    "        #plt.show()\n",
    "        return \"success\"\n",
    "    \n",
    "    except Exception as e:\n",
    "        print(e)\n",
    "        return \"Failed\""
   ]
  },
  {
   "cell_type": "markdown",
   "id": "df0076f5",
   "metadata": {},
   "source": [
    "# 2. Flip"
   ]
  },
  {
   "cell_type": "code",
   "execution_count": null,
   "id": "334a91d5",
   "metadata": {},
   "outputs": [],
   "source": [
    "def data_flip(saved_dir, data, img, rate, type, saving_enable=False):\n",
    "    \n",
    "    img = cv.flip(img, type)\n",
    "    try:\n",
    "        if type == 0:\n",
    "            type = \"_horizen_\"\n",
    "        elif type == 1:\n",
    "            type = \"_vertical_\"\n",
    "        elif type == -1:\n",
    "            type = \"_bothFlip_\"\n",
    "        \n",
    "        if saving_enable == True:\n",
    "            save(saved_dir, data, img, rate, type)\n",
    "    \n",
    "    except Exception as e:\n",
    "        print(e)\n",
    "        return \"Failed\""
   ]
  },
  {
   "cell_type": "markdown",
   "id": "a858c3c9",
   "metadata": {},
   "source": [
    "# 3. Rotate"
   ]
  },
  {
   "cell_type": "code",
   "execution_count": null,
   "id": "e6a74631",
   "metadata": {},
   "outputs": [],
   "source": [
    "def data_rotate(saved_dir, data, img, rate, type, saving_enable=False):\n",
    "    \n",
    "    xLength = img.shape[0]\n",
    "    yLength = img.shape[1]\n",
    "\n",
    "    rotation_matrix = cv.getRotationMatrix2D((xLength/2 , yLength/2), rate, 1)\n",
    "    img = cv.warpAffine(img, rotation_matrix, (xLength, yLength))\n",
    "    #print(img.shape) \n",
    "    i = 0\n",
    "    for i in range(1):\n",
    "        if saving_enable == True:\n",
    "            save(saved_dir, data, img, rate, type)\n",
    "\n",
    "\n",
    "#         return \"Success\"\n",
    "#     except Exception as e:\n",
    "#         print(e)\n",
    "#         return \"Failed\""
   ]
  },
  {
   "cell_type": "markdown",
   "id": "cda479e9",
   "metadata": {},
   "source": [
    "# Create Entry Point function"
   ]
  },
  {
   "cell_type": "code",
   "execution_count": null,
   "id": "9251c6ea",
   "metadata": {},
   "outputs": [],
   "source": [
    "def main_TransformImage(keyNames):\n",
    "    try:\n",
    "        for keyname in keyNames:\n",
    "            \n",
    "            #print(keyname)\n",
    "            augmente(keyname, 10) # scaling\n",
    "\n",
    "        return \"Augment Done!\"\n",
    "    except Exception as e:\n",
    "        print(e)\n",
    "        return \"Augment Error!\""
   ]
  },
  {
   "cell_type": "code",
   "execution_count": null,
   "id": "03ca1646",
   "metadata": {
    "scrolled": true
   },
   "outputs": [],
   "source": [
    "main_TransformImage(root_dir)"
   ]
  },
  {
   "cell_type": "code",
   "execution_count": null,
   "id": "b1271a2c",
   "metadata": {},
   "outputs": [],
   "source": []
  }
 ],
 "metadata": {
  "kernelspec": {
   "display_name": "Python 3 (ipykernel)",
   "language": "python",
   "name": "python3"
  },
  "language_info": {
   "codemirror_mode": {
    "name": "ipython",
    "version": 3
   },
   "file_extension": ".py",
   "mimetype": "text/x-python",
   "name": "python",
   "nbconvert_exporter": "python",
   "pygments_lexer": "ipython3",
   "version": "3.9.7"
  }
 },
 "nbformat": 4,
 "nbformat_minor": 5
}
